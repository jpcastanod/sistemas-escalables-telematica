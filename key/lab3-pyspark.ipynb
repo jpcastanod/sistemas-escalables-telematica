{
 "cells": [
  {
   "cell_type": "code",
   "execution_count": 144,
   "id": "0997fd0d",
   "metadata": {},
   "outputs": [
    {
     "data": {
      "application/vnd.jupyter.widget-view+json": {
       "model_id": "4326d4ac93054cc0864972d52bd2842b",
       "version_major": 2,
       "version_minor": 0
      },
      "text/plain": [
       "VBox()"
      ]
     },
     "metadata": {},
     "output_type": "display_data"
    },
    {
     "data": {
      "application/vnd.jupyter.widget-view+json": {
       "model_id": "",
       "version_major": 2,
       "version_minor": 0
      },
      "text/plain": [
       "FloatProgress(value=0.0, bar_style='info', description='Progress:', layout=Layout(height='25px', width='50%'),…"
      ]
     },
     "metadata": {},
     "output_type": "display_data"
    }
   ],
   "source": [
    "#import SparkSession\n",
    "from pyspark.sql import SparkSession"
   ]
  },
  {
   "cell_type": "code",
   "execution_count": 145,
   "id": "5c812071",
   "metadata": {},
   "outputs": [
    {
     "data": {
      "application/vnd.jupyter.widget-view+json": {
       "model_id": "804fac356a16487287048e0a7f27c18c",
       "version_major": 2,
       "version_minor": 0
      },
      "text/plain": [
       "VBox()"
      ]
     },
     "metadata": {},
     "output_type": "display_data"
    },
    {
     "data": {
      "application/vnd.jupyter.widget-view+json": {
       "model_id": "",
       "version_major": 2,
       "version_minor": 0
      },
      "text/plain": [
       "FloatProgress(value=0.0, bar_style='info', description='Progress:', layout=Layout(height='25px', width='50%'),…"
      ]
     },
     "metadata": {},
     "output_type": "display_data"
    }
   ],
   "source": [
    "#create spar session object\n",
    "spark=SparkSession.builder.appName('data_processing').getOrCreate()"
   ]
  },
  {
   "cell_type": "code",
   "execution_count": 146,
   "id": "e843a421",
   "metadata": {},
   "outputs": [
    {
     "data": {
      "application/vnd.jupyter.widget-view+json": {
       "model_id": "d97467dd50424c8f947f777336994430",
       "version_major": 2,
       "version_minor": 0
      },
      "text/plain": [
       "VBox()"
      ]
     },
     "metadata": {},
     "output_type": "display_data"
    },
    {
     "data": {
      "application/vnd.jupyter.widget-view+json": {
       "model_id": "",
       "version_major": 2,
       "version_minor": 0
      },
      "text/plain": [
       "FloatProgress(value=0.0, bar_style='info', description='Progress:', layout=Layout(height='25px', width='50%'),…"
      ]
     },
     "metadata": {},
     "output_type": "display_data"
    }
   ],
   "source": [
    "# Load csv Dataset \n",
    "df=spark.read.csv('s3://st026320211jpcastanod/datasets/spark/Casos_positivos_de_COVID-19_en_Colombia.csv',inferSchema=True,header=True)"
   ]
  },
  {
   "cell_type": "code",
   "execution_count": 147,
   "id": "68524f49",
   "metadata": {},
   "outputs": [
    {
     "data": {
      "application/vnd.jupyter.widget-view+json": {
       "model_id": "ee00f8e6c21c40a786200f354abbd554",
       "version_major": 2,
       "version_minor": 0
      },
      "text/plain": [
       "VBox()"
      ]
     },
     "metadata": {},
     "output_type": "display_data"
    },
    {
     "data": {
      "application/vnd.jupyter.widget-view+json": {
       "model_id": "",
       "version_major": 2,
       "version_minor": 0
      },
      "text/plain": [
       "FloatProgress(value=0.0, bar_style='info', description='Progress:', layout=Layout(height='25px', width='50%'),…"
      ]
     },
     "metadata": {},
     "output_type": "display_data"
    },
    {
     "name": "stdout",
     "output_type": "stream",
     "text": [
      "['ID de caso', 'Fecha de notificación', 'Codigo DIVIPOLA', 'Ciudad de ubicación', 'Departamento o Distrito ', 'atención', 'Edad', 'Sexo', 'Tipo', 'Estado', 'País de procedencia', 'FIS', 'Fecha de muerte', 'Fecha diagnostico', 'Fecha recuperado', 'fecha reporte web']"
     ]
    }
   ],
   "source": [
    "#Columnas\n",
    "df.columns"
   ]
  },
  {
   "cell_type": "code",
   "execution_count": 148,
   "id": "c7bf9e6a",
   "metadata": {},
   "outputs": [
    {
     "data": {
      "application/vnd.jupyter.widget-view+json": {
       "model_id": "63dd8c7a2b58476ea6076efb0f971d55",
       "version_major": 2,
       "version_minor": 0
      },
      "text/plain": [
       "VBox()"
      ]
     },
     "metadata": {},
     "output_type": "display_data"
    },
    {
     "data": {
      "application/vnd.jupyter.widget-view+json": {
       "model_id": "",
       "version_major": 2,
       "version_minor": 0
      },
      "text/plain": [
       "FloatProgress(value=0.0, bar_style='info', description='Progress:', layout=Layout(height='25px', width='50%'),…"
      ]
     },
     "metadata": {},
     "output_type": "display_data"
    },
    {
     "name": "stdout",
     "output_type": "stream",
     "text": [
      "[('ID de caso', 'int'), ('Fecha de notificación', 'timestamp'), ('Codigo DIVIPOLA', 'int'), ('Ciudad de ubicación', 'string'), ('Departamento o Distrito ', 'string'), ('atención', 'string'), ('Edad', 'int'), ('Sexo', 'string'), ('Tipo', 'string'), ('Estado', 'string'), ('País de procedencia', 'string'), ('FIS', 'string'), ('Fecha de muerte', 'string'), ('Fecha diagnostico', 'timestamp'), ('Fecha recuperado', 'string'), ('fecha reporte web', 'timestamp')]"
     ]
    }
   ],
   "source": [
    "#Tipo de datos\n",
    "df.dtypes"
   ]
  },
  {
   "cell_type": "code",
   "execution_count": 149,
   "id": "24ff2af4",
   "metadata": {},
   "outputs": [
    {
     "data": {
      "application/vnd.jupyter.widget-view+json": {
       "model_id": "9afdde5e1fc244d4901f924385c76773",
       "version_major": 2,
       "version_minor": 0
      },
      "text/plain": [
       "VBox()"
      ]
     },
     "metadata": {},
     "output_type": "display_data"
    },
    {
     "data": {
      "application/vnd.jupyter.widget-view+json": {
       "model_id": "",
       "version_major": 2,
       "version_minor": 0
      },
      "text/plain": [
       "FloatProgress(value=0.0, bar_style='info', description='Progress:', layout=Layout(height='25px', width='50%'),…"
      ]
     },
     "metadata": {},
     "output_type": "display_data"
    },
    {
     "name": "stdout",
     "output_type": "stream",
     "text": [
      "+----+------+\n",
      "|edad|Estado|\n",
      "+----+------+\n",
      "|  19|  Leve|\n",
      "|  34|  Leve|\n",
      "|  50|  Leve|\n",
      "|  55|  Leve|\n",
      "|  25|  Leve|\n",
      "|  27|  Leve|\n",
      "|  85|  Leve|\n",
      "|  22|  Leve|\n",
      "|  28|  Leve|\n",
      "|  36|  Leve|\n",
      "|  42|  Leve|\n",
      "|  74|  Leve|\n",
      "|  68|  Leve|\n",
      "|  48|  Leve|\n",
      "|  30|  Leve|\n",
      "|  61|  Leve|\n",
      "|  73|  Leve|\n",
      "|  54|  Leve|\n",
      "|  54|  Leve|\n",
      "|  26|  Leve|\n",
      "+----+------+\n",
      "only showing top 20 rows"
     ]
    }
   ],
   "source": [
    "#Seleccionar algunas columnas\n",
    "df.select('edad', 'Estado').show()\n"
   ]
  },
  {
   "cell_type": "code",
   "execution_count": 150,
   "id": "9e3c8bf3",
   "metadata": {},
   "outputs": [
    {
     "data": {
      "application/vnd.jupyter.widget-view+json": {
       "model_id": "abd04fb6142e4051bff66a7710d55d34",
       "version_major": 2,
       "version_minor": 0
      },
      "text/plain": [
       "VBox()"
      ]
     },
     "metadata": {},
     "output_type": "display_data"
    },
    {
     "data": {
      "application/vnd.jupyter.widget-view+json": {
       "model_id": "",
       "version_major": 2,
       "version_minor": 0
      },
      "text/plain": [
       "FloatProgress(value=0.0, bar_style='info', description='Progress:', layout=Layout(height='25px', width='50%'),…"
      ]
     },
     "metadata": {},
     "output_type": "display_data"
    },
    {
     "name": "stdout",
     "output_type": "stream",
     "text": [
      "+----------+---------------------+---------------+-------------------+------------------------+----------+----+----+-----------+------+-------------------------+-----------------------+---------------+-------------------+-----------------------+-------------------+----------------+\n",
      "|ID de caso|Fecha de notificación|Codigo DIVIPOLA|Ciudad de ubicación|Departamento o Distrito |atención  |Edad|Sexo|Tipo       |Estado|País de procedencia      |FIS                    |Fecha de muerte|Fecha diagnostico  |Fecha recuperado       |fecha reporte web  |age_after_10_yrs|\n",
      "+----------+---------------------+---------------+-------------------+------------------------+----------+----+----+-----------+------+-------------------------+-----------------------+---------------+-------------------+-----------------------+-------------------+----------------+\n",
      "|1         |2020-03-02 00:00:00  |11001          |Bogotá D.C.        |Bogotá D.C.             |Recuperado|19  |F   |Importado  |Leve  |Italia                   |2020-02-27T00:00:00.000|-   -          |2020-03-06 00:00:00|2020-03-13T00:00:00.000|2020-03-06 00:00:00|29              |\n",
      "|2         |2020-03-06 00:00:00  |76111          |Guadalajara de Buga|Valle del Cauca         |Recuperado|34  |M   |Importado  |Leve  |España                   |2020-03-04T00:00:00.000|-   -          |2020-03-09 00:00:00|2020-03-19T00:00:00.000|2020-03-09 00:00:00|44              |\n",
      "|3         |2020-03-07 00:00:00  |5001           |Medellín           |Antioquia               |Recuperado|50  |F   |Importado  |Leve  |España                   |2020-02-29T00:00:00.000|-   -          |2020-03-09 00:00:00|2020-03-15T00:00:00.000|2020-03-09 00:00:00|60              |\n",
      "|4         |2020-03-09 00:00:00  |5001           |Medellín           |Antioquia               |Recuperado|55  |M   |Relacionado|Leve  |Colombia                 |2020-03-06T00:00:00.000|-   -          |2020-03-11 00:00:00|2020-03-26T00:00:00.000|2020-03-11 00:00:00|65              |\n",
      "|5         |2020-03-09 00:00:00  |5001           |Medellín           |Antioquia               |Recuperado|25  |M   |Relacionado|Leve  |Colombia                 |2020-03-08T00:00:00.000|-   -          |2020-03-11 00:00:00|2020-03-23T00:00:00.000|2020-03-11 00:00:00|35              |\n",
      "|6         |2020-03-10 00:00:00  |5360           |Itagüí             |Antioquia               |Recuperado|27  |F   |Relacionado|Leve  |Colombia                 |2020-03-06T00:00:00.000|-   -          |2020-03-11 00:00:00|2020-03-26T00:00:00.000|2020-03-11 00:00:00|37              |\n",
      "|7         |2020-03-08 00:00:00  |13001          |Cartagena de Indias|Cartagena D.T. y C.     |Recuperado|85  |F   |Importado  |Leve  |Estados Unidos de América|2020-03-02T00:00:00.000|-   -          |2020-03-11 00:00:00|2020-03-17T00:00:00.000|2020-03-11 00:00:00|95              |\n",
      "|8         |2020-03-09 00:00:00  |11001          |Bogotá D.C.        |Bogotá D.C.             |Recuperado|22  |F   |Importado  |Leve  |España                   |2020-03-06T00:00:00.000|-   -          |2020-03-11 00:00:00|2020-03-21T00:00:00.000|2020-03-11 00:00:00|32              |\n",
      "|9         |2020-03-08 00:00:00  |11001          |Bogotá D.C.        |Bogotá D.C.             |Recuperado|28  |F   |Importado  |Leve  |España                   |2020-03-07T00:00:00.000|-   -          |2020-03-11 00:00:00|2020-03-23T00:00:00.000|2020-03-11 00:00:00|38              |\n",
      "|10        |2020-03-12 00:00:00  |11001          |Bogotá D.C.        |Bogotá D.C.             |Recuperado|36  |F   |Importado  |Leve  |España                   |2020-03-06T00:00:00.000|-   -          |2020-03-12 00:00:00|2020-03-21T00:00:00.000|2020-03-12 00:00:00|46              |\n",
      "+----------+---------------------+---------------+-------------------+------------------------+----------+----+----+-----------+------+-------------------------+-----------------------+---------------+-------------------+-----------------------+-------------------+----------------+\n",
      "only showing top 10 rows"
     ]
    }
   ],
   "source": [
    "#Agregar nueva columna\n",
    "df.withColumn(\"age_after_10_yrs\",(df[\"edad\"]+10)).show(10,False)"
   ]
  },
  {
   "cell_type": "code",
   "execution_count": 151,
   "id": "96fa48be",
   "metadata": {},
   "outputs": [
    {
     "data": {
      "application/vnd.jupyter.widget-view+json": {
       "model_id": "5fc945c8e8c844c5b2f552a4d8b2ef9e",
       "version_major": 2,
       "version_minor": 0
      },
      "text/plain": [
       "VBox()"
      ]
     },
     "metadata": {},
     "output_type": "display_data"
    },
    {
     "data": {
      "application/vnd.jupyter.widget-view+json": {
       "model_id": "",
       "version_major": 2,
       "version_minor": 0
      },
      "text/plain": [
       "FloatProgress(value=0.0, bar_style='info', description='Progress:', layout=Layout(height='25px', width='50%'),…"
      ]
     },
     "metadata": {},
     "output_type": "display_data"
    }
   ],
   "source": [
    "#Eliminar columna\n",
    "df_new=df.drop('age_after_10_yrs')"
   ]
  },
  {
   "cell_type": "code",
   "execution_count": 152,
   "id": "86b58682",
   "metadata": {},
   "outputs": [
    {
     "data": {
      "application/vnd.jupyter.widget-view+json": {
       "model_id": "9f572233b28c43608745512c5997417c",
       "version_major": 2,
       "version_minor": 0
      },
      "text/plain": [
       "VBox()"
      ]
     },
     "metadata": {},
     "output_type": "display_data"
    },
    {
     "data": {
      "application/vnd.jupyter.widget-view+json": {
       "model_id": "",
       "version_major": 2,
       "version_minor": 0
      },
      "text/plain": [
       "FloatProgress(value=0.0, bar_style='info', description='Progress:', layout=Layout(height='25px', width='50%'),…"
      ]
     },
     "metadata": {},
     "output_type": "display_data"
    },
    {
     "name": "stdout",
     "output_type": "stream",
     "text": [
      "+----------+---------------------+---------------+-------------------+------------------------+------------+----+----+-----------+---------+--------------------+--------------------+--------------------+-------------------+--------------------+-------------------+\n",
      "|ID de caso|Fecha de notificación|Codigo DIVIPOLA|Ciudad de ubicación|Departamento o Distrito |    atención|Edad|Sexo|       Tipo|   Estado| País de procedencia|                 FIS|     Fecha de muerte|  Fecha diagnostico|    Fecha recuperado|  fecha reporte web|\n",
      "+----------+---------------------+---------------+-------------------+------------------------+------------+----+----+-----------+---------+--------------------+--------------------+--------------------+-------------------+--------------------+-------------------+\n",
      "|       152|  2020-03-18 00:00:00|          11001|        Bogotá D.C.|             Bogotá D.C.|   Fallecido|  65|   M|  Importado|Fallecido|Estados Unidos de...|2020-03-10T00:00:...|2020-04-05T00:00:...|2020-03-20 00:00:00|               -   -|2020-03-20 00:00:00|\n",
      "|       153|  2020-03-18 00:00:00|          11001|        Bogotá D.C.|             Bogotá D.C.|   Fallecido|  53|   F|Relacionado|Fallecido|            Colombia|2020-03-18T00:00:...|2020-04-06T00:00:...|2020-03-20 00:00:00|               -   -|2020-03-20 00:00:00|\n",
      "|       157|  2020-03-20 00:00:00|          47001|        Santa Marta|    Santa Marta D.T. ...|   Fallecido|  88|   M|Relacionado|Fallecido|            Colombia|2020-03-12T00:00:...|2020-03-23T00:00:...|2020-03-20 00:00:00|               -   -|2020-03-20 00:00:00|\n",
      "|       187|  2020-03-17 00:00:00|          76001|               Cali|         Valle del Cauca|Hospital UCI|  74|   M|Relacionado|    Grave|            Colombia|2020-03-09T00:00:...|               -   -|2020-03-21 00:00:00|               -   -|2020-03-21 00:00:00|\n",
      "|       188|  2020-03-17 00:00:00|          76001|               Cali|         Valle del Cauca|   Fallecido|  70|   F|Relacionado|Fallecido|            Colombia|2020-03-08T00:00:...|2020-03-22T00:00:...|2020-03-21 00:00:00|               -   -|2020-03-21 00:00:00|\n",
      "|       197|  2020-03-13 00:00:00|          13001|Cartagena de Indias|     Cartagena D.T. y C.|   Fallecido|  58|   M|Relacionado|Fallecido|            Colombia|2020-03-06T00:00:...|2020-03-16T00:00:...|2020-03-16 00:00:00|               -   -|2020-03-16 00:00:00|\n",
      "|       232|  2020-03-20 00:00:00|          11001|        Bogotá D.C.|             Bogotá D.C.|   Fallecido|  59|   F|Relacionado|Fallecido|            Colombia|2020-03-13T00:00:...|2020-03-26T00:00:...|2020-03-22 00:00:00|               -   -|2020-03-22 00:00:00|\n",
      "|       250|  2020-03-23 00:00:00|          11001|        Bogotá D.C.|             Bogotá D.C.|   Fallecido|  76|   M| En estudio|Fallecido|            Colombia|2020-03-10T00:00:...|2020-03-25T00:00:...|2020-03-23 00:00:00|               -   -|2020-03-23 00:00:00|\n",
      "|       261|  2020-03-23 00:00:00|          11001|        Bogotá D.C.|             Bogotá D.C.|   Fallecido|  61|   M|Relacionado|Fallecido|            Colombia|2020-03-05T00:00:...|2020-04-04T00:00:...|2020-03-23 00:00:00|               -   -|2020-03-23 00:00:00|\n",
      "|       274|  2020-03-19 00:00:00|           5001|           Medellín|               Antioquia|Hospital UCI|  30|   M|  Importado|    Grave|Estados Unidos de...|2020-03-12T00:00:...|               -   -|2020-03-23 00:00:00|               -   -|2020-03-23 00:00:00|\n",
      "|       282|  2020-03-20 00:00:00|          76001|               Cali|         Valle del Cauca|   Fallecido|  40|   M|  Importado|Fallecido|Estados Unidos de...|2020-03-14T00:00:...|2020-04-15T00:00:...|2020-03-23 00:00:00|               -   -|2020-03-23 00:00:00|\n",
      "|       286|  2020-03-21 00:00:00|          41001|              Neiva|                   Huila|   Fallecido|  83|   F|Relacionado|Fallecido|            Colombia|2020-03-18T00:00:...|2020-04-06T00:00:...|2020-03-23 00:00:00|               -   -|2020-03-23 00:00:00|\n",
      "|       303|  2020-03-19 00:00:00|           5360|             Itagüí|               Antioquia|Hospital UCI|  74|   F|  Importado|    Grave|Estados Unidos de...|2020-03-14T00:00:...|               -   -|2020-03-23 00:00:00|               -   -|2020-03-23 00:00:00|\n",
      "|       314|  2020-03-20 00:00:00|          52356|            Ipiales|                  Nariño|   Fallecido|  62|   M|  Importado|Fallecido|             Ecuador|2020-03-19T00:00:...|2020-04-09T00:00:...|2020-03-24 00:00:00|               -   -|2020-03-24 00:00:00|\n",
      "|       326|  2020-03-21 00:00:00|          66001|            Pereira|               Risaralda|   Fallecido|  61|   M|Relacionado|Fallecido|            Colombia|2020-03-18T00:00:...|2020-03-30T00:00:...|2020-03-24 00:00:00|               -   -|2020-03-24 00:00:00|\n",
      "|       335|  2020-03-23 00:00:00|          76001|               Cali|         Valle del Cauca|    Hospital|  59|   M|Relacionado| Moderado|            Colombia|2020-03-13T00:00:...|               -   -|2020-03-24 00:00:00|               -   -|2020-03-24 00:00:00|\n",
      "|       336|  2020-03-19 00:00:00|          13001|Cartagena de Indias|     Cartagena D.T. y C.|  Recuperado|  24|   M|Relacionado| Moderado|            Colombia|2020-03-13T00:00:...|               -   -|2020-03-24 00:00:00|2020-04-13T00:00:...|2020-03-24 00:00:00|\n",
      "|       389|  2020-03-23 00:00:00|          11001|        Bogotá D.C.|             Bogotá D.C.|   Fallecido|  73|   M|Relacionado|Fallecido|            Colombia|2020-03-19T00:00:...|2020-03-28T00:00:...|2020-03-24 00:00:00|               -   -|2020-03-24 00:00:00|\n",
      "|       425|  2020-03-21 00:00:00|          76001|               Cali|         Valle del Cauca|   Fallecido|  80|   F|Relacionado|Fallecido|            Colombia|2020-03-18T00:00:...|2020-04-04T00:00:...|2020-03-25 00:00:00|               -   -|2020-03-25 00:00:00|\n",
      "|       491|  2020-03-25 00:00:00|          11001|        Bogotá D.C.|             Bogotá D.C.|   Fallecido|  84|   M|Relacionado|Fallecido|            Colombia|2020-03-17T00:00:...|2020-03-26T00:00:...|2020-03-26 00:00:00|               -   -|2020-03-26 00:00:00|\n",
      "+----------+---------------------+---------------+-------------------+------------------------+------------+----+----+-----------+---------+--------------------+--------------------+--------------------+-------------------+--------------------+-------------------+\n",
      "only showing top 20 rows"
     ]
    }
   ],
   "source": [
    "#Filtrar datos\n",
    "df.filter(df['Estado']!='Leve').show()"
   ]
  },
  {
   "cell_type": "code",
   "execution_count": 153,
   "id": "9de86453",
   "metadata": {},
   "outputs": [
    {
     "data": {
      "application/vnd.jupyter.widget-view+json": {
       "model_id": "d9132d5ffdf54c98bcfe2752c96afea0",
       "version_major": 2,
       "version_minor": 0
      },
      "text/plain": [
       "VBox()"
      ]
     },
     "metadata": {},
     "output_type": "display_data"
    },
    {
     "data": {
      "application/vnd.jupyter.widget-view+json": {
       "model_id": "",
       "version_major": 2,
       "version_minor": 0
      },
      "text/plain": [
       "FloatProgress(value=0.0, bar_style='info', description='Progress:', layout=Layout(height='25px', width='50%'),…"
      ]
     },
     "metadata": {},
     "output_type": "display_data"
    }
   ],
   "source": [
    "from pyspark.sql.functions import udf"
   ]
  },
  {
   "cell_type": "code",
   "execution_count": 154,
   "id": "7d25f711",
   "metadata": {},
   "outputs": [
    {
     "data": {
      "application/vnd.jupyter.widget-view+json": {
       "model_id": "9fc156a0f5c6466cb76d62ed271ae1ef",
       "version_major": 2,
       "version_minor": 0
      },
      "text/plain": [
       "VBox()"
      ]
     },
     "metadata": {},
     "output_type": "display_data"
    },
    {
     "data": {
      "application/vnd.jupyter.widget-view+json": {
       "model_id": "",
       "version_major": 2,
       "version_minor": 0
      },
      "text/plain": [
       "FloatProgress(value=0.0, bar_style='info', description='Progress:', layout=Layout(height='25px', width='50%'),…"
      ]
     },
     "metadata": {},
     "output_type": "display_data"
    },
    {
     "name": "stdout",
     "output_type": "stream",
     "text": [
      "+----------+---------------------+---------------+-------------------+------------------------+----------+----+----+-----------+------+-------------------------+-----------------------+---------------+-------------------+-----------------------+-------------------+---------+\n",
      "|ID de caso|Fecha de notificación|Codigo DIVIPOLA|Ciudad de ubicación|Departamento o Distrito |atención  |Edad|Sexo|Tipo       |Estado|País de procedencia      |FIS                    |Fecha de muerte|Fecha diagnostico  |Fecha recuperado       |fecha reporte web  |age_group|\n",
      "+----------+---------------------+---------------+-------------------+------------------------+----------+----+----+-----------+------+-------------------------+-----------------------+---------------+-------------------+-----------------------+-------------------+---------+\n",
      "|1         |2020-03-02 00:00:00  |11001          |Bogotá D.C.        |Bogotá D.C.             |Recuperado|19  |F   |Importado  |Leve  |Italia                   |2020-02-27T00:00:00.000|-   -          |2020-03-06 00:00:00|2020-03-13T00:00:00.000|2020-03-06 00:00:00|young    |\n",
      "|2         |2020-03-06 00:00:00  |76111          |Guadalajara de Buga|Valle del Cauca         |Recuperado|34  |M   |Importado  |Leve  |España                   |2020-03-04T00:00:00.000|-   -          |2020-03-09 00:00:00|2020-03-19T00:00:00.000|2020-03-09 00:00:00|senior   |\n",
      "|3         |2020-03-07 00:00:00  |5001           |Medellín           |Antioquia               |Recuperado|50  |F   |Importado  |Leve  |España                   |2020-02-29T00:00:00.000|-   -          |2020-03-09 00:00:00|2020-03-15T00:00:00.000|2020-03-09 00:00:00|senior   |\n",
      "|4         |2020-03-09 00:00:00  |5001           |Medellín           |Antioquia               |Recuperado|55  |M   |Relacionado|Leve  |Colombia                 |2020-03-06T00:00:00.000|-   -          |2020-03-11 00:00:00|2020-03-26T00:00:00.000|2020-03-11 00:00:00|senior   |\n",
      "|5         |2020-03-09 00:00:00  |5001           |Medellín           |Antioquia               |Recuperado|25  |M   |Relacionado|Leve  |Colombia                 |2020-03-08T00:00:00.000|-   -          |2020-03-11 00:00:00|2020-03-23T00:00:00.000|2020-03-11 00:00:00|young    |\n",
      "|6         |2020-03-10 00:00:00  |5360           |Itagüí             |Antioquia               |Recuperado|27  |F   |Relacionado|Leve  |Colombia                 |2020-03-06T00:00:00.000|-   -          |2020-03-11 00:00:00|2020-03-26T00:00:00.000|2020-03-11 00:00:00|young    |\n",
      "|7         |2020-03-08 00:00:00  |13001          |Cartagena de Indias|Cartagena D.T. y C.     |Recuperado|85  |F   |Importado  |Leve  |Estados Unidos de América|2020-03-02T00:00:00.000|-   -          |2020-03-11 00:00:00|2020-03-17T00:00:00.000|2020-03-11 00:00:00|senior   |\n",
      "|8         |2020-03-09 00:00:00  |11001          |Bogotá D.C.        |Bogotá D.C.             |Recuperado|22  |F   |Importado  |Leve  |España                   |2020-03-06T00:00:00.000|-   -          |2020-03-11 00:00:00|2020-03-21T00:00:00.000|2020-03-11 00:00:00|young    |\n",
      "|9         |2020-03-08 00:00:00  |11001          |Bogotá D.C.        |Bogotá D.C.             |Recuperado|28  |F   |Importado  |Leve  |España                   |2020-03-07T00:00:00.000|-   -          |2020-03-11 00:00:00|2020-03-23T00:00:00.000|2020-03-11 00:00:00|young    |\n",
      "|10        |2020-03-12 00:00:00  |11001          |Bogotá D.C.        |Bogotá D.C.             |Recuperado|36  |F   |Importado  |Leve  |España                   |2020-03-06T00:00:00.000|-   -          |2020-03-12 00:00:00|2020-03-21T00:00:00.000|2020-03-12 00:00:00|senior   |\n",
      "+----------+---------------------+---------------+-------------------+------------------------+----------+----+----+-----------+------+-------------------------+-----------------------+---------------+-------------------+-----------------------+-------------------+---------+\n",
      "only showing top 10 rows"
     ]
    }
   ],
   "source": [
    "#función lambda\n",
    "age_udf = udf(lambda edad: \"young\" if edad <= 30 else \"senior\", StringType())\n",
    "#aplicando udf\n",
    "df.withColumn(\"age_group\", age_udf(df.Edad)).show(10,False)"
   ]
  },
  {
   "cell_type": "code",
   "execution_count": 155,
   "id": "5101963a",
   "metadata": {},
   "outputs": [
    {
     "data": {
      "application/vnd.jupyter.widget-view+json": {
       "model_id": "8ff67b218e434cd9afe2a9818df59202",
       "version_major": 2,
       "version_minor": 0
      },
      "text/plain": [
       "VBox()"
      ]
     },
     "metadata": {},
     "output_type": "display_data"
    },
    {
     "data": {
      "application/vnd.jupyter.widget-view+json": {
       "model_id": "",
       "version_major": 2,
       "version_minor": 0
      },
      "text/plain": [
       "FloatProgress(value=0.0, bar_style='info', description='Progress:', layout=Layout(height='25px', width='50%'),…"
      ]
     },
     "metadata": {},
     "output_type": "display_data"
    }
   ],
   "source": [
    "from pyspark.sql.functions import pandas_udf, PandasUDFType\n",
    "from pyspark.sql.functions import col"
   ]
  },
  {
   "cell_type": "code",
   "execution_count": 156,
   "id": "ca806918",
   "metadata": {},
   "outputs": [
    {
     "data": {
      "application/vnd.jupyter.widget-view+json": {
       "model_id": "e7ccc2a8314f4a14bc07d6dc143fe5ed",
       "version_major": 2,
       "version_minor": 0
      },
      "text/plain": [
       "VBox()"
      ]
     },
     "metadata": {},
     "output_type": "display_data"
    },
    {
     "data": {
      "application/vnd.jupyter.widget-view+json": {
       "model_id": "",
       "version_major": 2,
       "version_minor": 0
      },
      "text/plain": [
       "FloatProgress(value=0.0, bar_style='info', description='Progress:', layout=Layout(height='25px', width='50%'),…"
      ]
     },
     "metadata": {},
     "output_type": "display_data"
    }
   ],
   "source": [
    "#Departamentos con mas casos de covid\n",
    "diezDepartamentosConMasCasos = df.groupBy(\"Departamento o Distrito \").count().sort(col(\"count\").desc()).limit(10)"
   ]
  },
  {
   "cell_type": "code",
   "execution_count": 157,
   "id": "6987454f",
   "metadata": {},
   "outputs": [
    {
     "data": {
      "application/vnd.jupyter.widget-view+json": {
       "model_id": "354b835a0dfa4bef9666e816c00db43b",
       "version_major": 2,
       "version_minor": 0
      },
      "text/plain": [
       "VBox()"
      ]
     },
     "metadata": {},
     "output_type": "display_data"
    },
    {
     "data": {
      "application/vnd.jupyter.widget-view+json": {
       "model_id": "",
       "version_major": 2,
       "version_minor": 0
      },
      "text/plain": [
       "FloatProgress(value=0.0, bar_style='info', description='Progress:', layout=Layout(height='25px', width='50%'),…"
      ]
     },
     "metadata": {},
     "output_type": "display_data"
    },
    {
     "name": "stdout",
     "output_type": "stream",
     "text": [
      "+------------------------+-----+\n",
      "|Departamento o Distrito |count|\n",
      "+------------------------+-----+\n",
      "|             Bogotá D.C.| 2543|\n",
      "|         Valle del Cauca|  877|\n",
      "|               Antioquia|  468|\n",
      "|                    Meta|  363|\n",
      "|     Cartagena D.T. y C.|  246|\n",
      "|            Cundinamarca|  219|\n",
      "|               Risaralda|  193|\n",
      "|       Barranquilla D.E.|  141|\n",
      "|    Santa Marta D.T. ...|  139|\n",
      "|                  Nariño|  118|\n",
      "+------------------------+-----+"
     ]
    }
   ],
   "source": [
    "diezDepartamentosConMasCasos.show()"
   ]
  },
  {
   "cell_type": "code",
   "execution_count": 158,
   "id": "85fa677f",
   "metadata": {},
   "outputs": [
    {
     "data": {
      "application/vnd.jupyter.widget-view+json": {
       "model_id": "6e9528792f4f43a48034b48772915c3e",
       "version_major": 2,
       "version_minor": 0
      },
      "text/plain": [
       "VBox()"
      ]
     },
     "metadata": {},
     "output_type": "display_data"
    },
    {
     "data": {
      "application/vnd.jupyter.widget-view+json": {
       "model_id": "",
       "version_major": 2,
       "version_minor": 0
      },
      "text/plain": [
       "FloatProgress(value=0.0, bar_style='info', description='Progress:', layout=Layout(height='25px', width='50%'),…"
      ]
     },
     "metadata": {},
     "output_type": "display_data"
    }
   ],
   "source": [
    "#Ciudades con mas casos de covid\n",
    "diezCiudadesConMasCasos = maxDepartaments = df.groupBy(\"Ciudad de ubicación\").count().sort(col(\"count\").desc()).limit(10)"
   ]
  },
  {
   "cell_type": "code",
   "execution_count": 159,
   "id": "9f232833",
   "metadata": {},
   "outputs": [
    {
     "data": {
      "application/vnd.jupyter.widget-view+json": {
       "model_id": "990300b7ab8c4aaa8690fd87be3019f2",
       "version_major": 2,
       "version_minor": 0
      },
      "text/plain": [
       "VBox()"
      ]
     },
     "metadata": {},
     "output_type": "display_data"
    },
    {
     "data": {
      "application/vnd.jupyter.widget-view+json": {
       "model_id": "",
       "version_major": 2,
       "version_minor": 0
      },
      "text/plain": [
       "FloatProgress(value=0.0, bar_style='info', description='Progress:', layout=Layout(height='25px', width='50%'),…"
      ]
     },
     "metadata": {},
     "output_type": "display_data"
    },
    {
     "name": "stdout",
     "output_type": "stream",
     "text": [
      "+-------------------+-----+\n",
      "|Ciudad de ubicación|count|\n",
      "+-------------------+-----+\n",
      "|        Bogotá D.C.| 2543|\n",
      "|               Cali|  713|\n",
      "|      Villavicencio|  344|\n",
      "|           Medellín|  305|\n",
      "|Cartagena de Indias|  246|\n",
      "|       Barranquilla|  141|\n",
      "|        Santa Marta|  139|\n",
      "|            Pereira|  132|\n",
      "|            Leticia|  104|\n",
      "|              Neiva|   82|\n",
      "+-------------------+-----+"
     ]
    }
   ],
   "source": [
    "diezCiudadesConMasCasos.show()"
   ]
  },
  {
   "cell_type": "code",
   "execution_count": 160,
   "id": "4d179e85",
   "metadata": {},
   "outputs": [
    {
     "data": {
      "application/vnd.jupyter.widget-view+json": {
       "model_id": "d0693fc1c3224a30977c04bcac797cd1",
       "version_major": 2,
       "version_minor": 0
      },
      "text/plain": [
       "VBox()"
      ]
     },
     "metadata": {},
     "output_type": "display_data"
    },
    {
     "data": {
      "application/vnd.jupyter.widget-view+json": {
       "model_id": "",
       "version_major": 2,
       "version_minor": 0
      },
      "text/plain": [
       "FloatProgress(value=0.0, bar_style='info', description='Progress:', layout=Layout(height='25px', width='50%'),…"
      ]
     },
     "metadata": {},
     "output_type": "display_data"
    }
   ],
   "source": [
    "#Dias con mas casos de covid\n",
    "diezDiasConMasCasos = df.groupBy(\"Fecha de notificación\").count().sort(col(\"count\").desc()).limit(10)\n"
   ]
  },
  {
   "cell_type": "code",
   "execution_count": 161,
   "id": "ede3f944",
   "metadata": {},
   "outputs": [
    {
     "data": {
      "application/vnd.jupyter.widget-view+json": {
       "model_id": "0923f5a113d8455c89f03444fb7b61b1",
       "version_major": 2,
       "version_minor": 0
      },
      "text/plain": [
       "VBox()"
      ]
     },
     "metadata": {},
     "output_type": "display_data"
    },
    {
     "data": {
      "application/vnd.jupyter.widget-view+json": {
       "model_id": "",
       "version_major": 2,
       "version_minor": 0
      },
      "text/plain": [
       "FloatProgress(value=0.0, bar_style='info', description='Progress:', layout=Layout(height='25px', width='50%'),…"
      ]
     },
     "metadata": {},
     "output_type": "display_data"
    },
    {
     "name": "stdout",
     "output_type": "stream",
     "text": [
      "+---------------------+-----+\n",
      "|Fecha de notificación|count|\n",
      "+---------------------+-----+\n",
      "|  2020-04-22 00:00:00|  235|\n",
      "|  2020-04-11 00:00:00|  235|\n",
      "|  2020-04-16 00:00:00|  232|\n",
      "|  2020-04-14 00:00:00|  207|\n",
      "|  2020-04-21 00:00:00|  194|\n",
      "|  2020-04-01 00:00:00|  193|\n",
      "|  2020-03-30 00:00:00|  191|\n",
      "|  2020-03-31 00:00:00|  188|\n",
      "|  2020-04-03 00:00:00|  184|\n",
      "|  2020-04-19 00:00:00|  182|\n",
      "+---------------------+-----+"
     ]
    }
   ],
   "source": [
    "diezDiasConMasCasos.show(10)"
   ]
  },
  {
   "cell_type": "code",
   "execution_count": 162,
   "id": "dc9ec3cb",
   "metadata": {},
   "outputs": [
    {
     "data": {
      "application/vnd.jupyter.widget-view+json": {
       "model_id": "650612e056834166bd0ceb9e8cbcf14f",
       "version_major": 2,
       "version_minor": 0
      },
      "text/plain": [
       "VBox()"
      ]
     },
     "metadata": {},
     "output_type": "display_data"
    },
    {
     "data": {
      "application/vnd.jupyter.widget-view+json": {
       "model_id": "",
       "version_major": 2,
       "version_minor": 0
      },
      "text/plain": [
       "FloatProgress(value=0.0, bar_style='info', description='Progress:', layout=Layout(height='25px', width='50%'),…"
      ]
     },
     "metadata": {},
     "output_type": "display_data"
    }
   ],
   "source": [
    "#Organizados por edades\n",
    "casosPorEdad = df.groupBy(\"Edad\").count().sort(col(\"count\").desc())\n"
   ]
  },
  {
   "cell_type": "code",
   "execution_count": 163,
   "id": "309b0c74",
   "metadata": {},
   "outputs": [
    {
     "data": {
      "application/vnd.jupyter.widget-view+json": {
       "model_id": "a1b74c5ff8394775875e37dfb43a39ed",
       "version_major": 2,
       "version_minor": 0
      },
      "text/plain": [
       "VBox()"
      ]
     },
     "metadata": {},
     "output_type": "display_data"
    },
    {
     "data": {
      "application/vnd.jupyter.widget-view+json": {
       "model_id": "",
       "version_major": 2,
       "version_minor": 0
      },
      "text/plain": [
       "FloatProgress(value=0.0, bar_style='info', description='Progress:', layout=Layout(height='25px', width='50%'),…"
      ]
     },
     "metadata": {},
     "output_type": "display_data"
    },
    {
     "name": "stdout",
     "output_type": "stream",
     "text": [
      "+----+-----+\n",
      "|Edad|count|\n",
      "+----+-----+\n",
      "|  29|  167|\n",
      "|  30|  166|\n",
      "|  28|  162|\n",
      "|  31|  161|\n",
      "|  32|  149|\n",
      "|  27|  148|\n",
      "|  25|  147|\n",
      "|  26|  143|\n",
      "|  33|  137|\n",
      "|  36|  135|\n",
      "|  24|  134|\n",
      "|  37|  131|\n",
      "|  40|  130|\n",
      "|  39|  129|\n",
      "|  34|  126|\n",
      "|  35|  120|\n",
      "|  38|  120|\n",
      "|  42|  112|\n",
      "|  45|  110|\n",
      "|  23|  110|\n",
      "+----+-----+\n",
      "only showing top 20 rows"
     ]
    }
   ],
   "source": [
    "casosPorEdad.show()"
   ]
  },
  {
   "cell_type": "code",
   "execution_count": 164,
   "id": "9701270c",
   "metadata": {},
   "outputs": [
    {
     "data": {
      "application/vnd.jupyter.widget-view+json": {
       "model_id": "c2fdc8c7820c436f8a40d791045e8268",
       "version_major": 2,
       "version_minor": 0
      },
      "text/plain": [
       "VBox()"
      ]
     },
     "metadata": {},
     "output_type": "display_data"
    },
    {
     "data": {
      "application/vnd.jupyter.widget-view+json": {
       "model_id": "",
       "version_major": 2,
       "version_minor": 0
      },
      "text/plain": [
       "FloatProgress(value=0.0, bar_style='info', description='Progress:', layout=Layout(height='25px', width='50%'),…"
      ]
     },
     "metadata": {},
     "output_type": "display_data"
    }
   ],
   "source": [
    "#Cantidad de muertos por covid por ciudad\n",
    "muertosPorCiudad = df.filter(df['Estado']=='Fallecido').groupBy(\"Ciudad de ubicación\").count().sort(col(\"count\").desc())"
   ]
  },
  {
   "cell_type": "code",
   "execution_count": 165,
   "id": "ebbbdbf8",
   "metadata": {},
   "outputs": [
    {
     "data": {
      "application/vnd.jupyter.widget-view+json": {
       "model_id": "2e766421a4d14cd3a19ca73e3338ec02",
       "version_major": 2,
       "version_minor": 0
      },
      "text/plain": [
       "VBox()"
      ]
     },
     "metadata": {},
     "output_type": "display_data"
    },
    {
     "data": {
      "application/vnd.jupyter.widget-view+json": {
       "model_id": "",
       "version_major": 2,
       "version_minor": 0
      },
      "text/plain": [
       "FloatProgress(value=0.0, bar_style='info', description='Progress:', layout=Layout(height='25px', width='50%'),…"
      ]
     },
     "metadata": {},
     "output_type": "display_data"
    },
    {
     "name": "stdout",
     "output_type": "stream",
     "text": [
      "+--------------------+-----+\n",
      "| Ciudad de ubicación|count|\n",
      "+--------------------+-----+\n",
      "|         Bogotá D.C.|   97|\n",
      "|                Cali|   42|\n",
      "| Cartagena de Indias|   21|\n",
      "|         Santa Marta|   14|\n",
      "|        Barranquilla|    6|\n",
      "|             Pereira|    5|\n",
      "|             Soledad|    4|\n",
      "|             Palmira|    4|\n",
      "|       Villavicencio|    4|\n",
      "|               Neiva|    4|\n",
      "|              Soacha|    4|\n",
      "|              Cúcuta|    4|\n",
      "|             Ipiales|    3|\n",
      "|            Medellín|    3|\n",
      "|          Valledupar|    3|\n",
      "|           Zipaquirá|    2|\n",
      "|          Río de Oro|    2|\n",
      "|San Andrés de Tumaco|    2|\n",
      "|         Puebloviejo|    2|\n",
      "|         Villapinzón|    2|\n",
      "+--------------------+-----+\n",
      "only showing top 20 rows"
     ]
    }
   ],
   "source": [
    "muertosPorCiudad.show()"
   ]
  },
  {
   "cell_type": "code",
   "execution_count": 166,
   "id": "7fd33ab5",
   "metadata": {},
   "outputs": [
    {
     "data": {
      "application/vnd.jupyter.widget-view+json": {
       "model_id": "833f00d847a94f23881ff538617a3dd0",
       "version_major": 2,
       "version_minor": 0
      },
      "text/plain": [
       "VBox()"
      ]
     },
     "metadata": {},
     "output_type": "display_data"
    },
    {
     "data": {
      "application/vnd.jupyter.widget-view+json": {
       "model_id": "",
       "version_major": 2,
       "version_minor": 0
      },
      "text/plain": [
       "FloatProgress(value=0.0, bar_style='info', description='Progress:', layout=Layout(height='25px', width='50%'),…"
      ]
     },
     "metadata": {},
     "output_type": "display_data"
    }
   ],
   "source": [
    "write_uri='s3://st026320211jpcastanod/lab3/diesDepartamentosConMasCasos.csv'\n",
    "diezDepartamentosConMasCasos.coalesce(1).write.format(\"csv\").option(\"header\",\"true\").save(write_uri)"
   ]
  },
  {
   "cell_type": "code",
   "execution_count": 167,
   "id": "3f7f60b2",
   "metadata": {},
   "outputs": [
    {
     "data": {
      "application/vnd.jupyter.widget-view+json": {
       "model_id": "3d956b64c1c84be585b2658ed6333f38",
       "version_major": 2,
       "version_minor": 0
      },
      "text/plain": [
       "VBox()"
      ]
     },
     "metadata": {},
     "output_type": "display_data"
    },
    {
     "data": {
      "application/vnd.jupyter.widget-view+json": {
       "model_id": "",
       "version_major": 2,
       "version_minor": 0
      },
      "text/plain": [
       "FloatProgress(value=0.0, bar_style='info', description='Progress:', layout=Layout(height='25px', width='50%'),…"
      ]
     },
     "metadata": {},
     "output_type": "display_data"
    }
   ],
   "source": [
    "write_uri='s3://st026320211jpcastanod/lab3/diezCiudadesConMasCasos.csv'\n",
    "diezCiudadesConMasCasos.coalesce(1).write.format(\"csv\").option(\"header\",\"true\").save(write_uri)"
   ]
  },
  {
   "cell_type": "code",
   "execution_count": 168,
   "id": "75132268",
   "metadata": {},
   "outputs": [
    {
     "data": {
      "application/vnd.jupyter.widget-view+json": {
       "model_id": "7983b822112c4e50912c61ffbecf11f8",
       "version_major": 2,
       "version_minor": 0
      },
      "text/plain": [
       "VBox()"
      ]
     },
     "metadata": {},
     "output_type": "display_data"
    },
    {
     "data": {
      "application/vnd.jupyter.widget-view+json": {
       "model_id": "",
       "version_major": 2,
       "version_minor": 0
      },
      "text/plain": [
       "FloatProgress(value=0.0, bar_style='info', description='Progress:', layout=Layout(height='25px', width='50%'),…"
      ]
     },
     "metadata": {},
     "output_type": "display_data"
    }
   ],
   "source": [
    "write_uri='s3://st026320211jpcastanod/lab3/diezDiasConMasCasos.csv'\n",
    "diezDiasConMasCasos.coalesce(1).write.format(\"csv\").option(\"header\",\"true\").save(write_uri)"
   ]
  },
  {
   "cell_type": "code",
   "execution_count": 169,
   "id": "61a7a720",
   "metadata": {},
   "outputs": [
    {
     "data": {
      "application/vnd.jupyter.widget-view+json": {
       "model_id": "72f7c269fb2745fba32fbc72fcdf8390",
       "version_major": 2,
       "version_minor": 0
      },
      "text/plain": [
       "VBox()"
      ]
     },
     "metadata": {},
     "output_type": "display_data"
    },
    {
     "data": {
      "application/vnd.jupyter.widget-view+json": {
       "model_id": "",
       "version_major": 2,
       "version_minor": 0
      },
      "text/plain": [
       "FloatProgress(value=0.0, bar_style='info', description='Progress:', layout=Layout(height='25px', width='50%'),…"
      ]
     },
     "metadata": {},
     "output_type": "display_data"
    }
   ],
   "source": [
    "write_uri='s3://st026320211jpcastanod/lab3/casosPorEdad.csv'\n",
    "casosPorEdad.coalesce(1).write.format(\"csv\").option(\"header\",\"true\").save(write_uri)"
   ]
  },
  {
   "cell_type": "code",
   "execution_count": 170,
   "id": "9d8477f7",
   "metadata": {},
   "outputs": [
    {
     "data": {
      "application/vnd.jupyter.widget-view+json": {
       "model_id": "6dfd28f5b84849758f7b7d2695c820c9",
       "version_major": 2,
       "version_minor": 0
      },
      "text/plain": [
       "VBox()"
      ]
     },
     "metadata": {},
     "output_type": "display_data"
    },
    {
     "data": {
      "application/vnd.jupyter.widget-view+json": {
       "model_id": "",
       "version_major": 2,
       "version_minor": 0
      },
      "text/plain": [
       "FloatProgress(value=0.0, bar_style='info', description='Progress:', layout=Layout(height='25px', width='50%'),…"
      ]
     },
     "metadata": {},
     "output_type": "display_data"
    }
   ],
   "source": [
    "write_uri='s3://st026320211jpcastanod/lab3/muertosPorCiudad.csv'\n",
    "muertosPorCiudad.coalesce(1).write.format(\"csv\").option(\"header\",\"true\").save(write_uri)"
   ]
  },
  {
   "cell_type": "code",
   "execution_count": null,
   "id": "f9c93b66",
   "metadata": {},
   "outputs": [],
   "source": []
  },
  {
   "cell_type": "code",
   "execution_count": null,
   "id": "c518ac3c",
   "metadata": {},
   "outputs": [],
   "source": [
    " "
   ]
  }
 ],
 "metadata": {
  "kernelspec": {
   "display_name": "PySpark",
   "language": "",
   "name": "pysparkkernel"
  },
  "language_info": {
   "codemirror_mode": {
    "name": "python",
    "version": 2
   },
   "mimetype": "text/x-python",
   "name": "pyspark",
   "pygments_lexer": "python2"
  }
 },
 "nbformat": 4,
 "nbformat_minor": 5
}
